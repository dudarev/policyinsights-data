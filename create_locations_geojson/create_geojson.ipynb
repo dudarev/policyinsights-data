{
 "cells": [
  {
   "cell_type": "markdown",
   "metadata": {},
   "source": [
    "# Combine geojson files for current locations"
   ]
  },
  {
   "cell_type": "code",
   "execution_count": 1,
   "metadata": {
    "collapsed": true
   },
   "outputs": [],
   "source": [
    "import geojson"
   ]
  },
  {
   "cell_type": "markdown",
   "metadata": {},
   "source": [
    "## New York City"
   ]
  },
  {
   "cell_type": "code",
   "execution_count": 2,
   "metadata": {
    "collapsed": true
   },
   "outputs": [],
   "source": [
    "with open('new_york.geojson') as f:\n",
    "    nyc_data = geojson.load(f)"
   ]
  },
  {
   "cell_type": "code",
   "execution_count": 3,
   "metadata": {},
   "outputs": [
    {
     "name": "stdout",
     "output_type": "stream",
     "text": [
      "3\n"
     ]
    }
   ],
   "source": [
    "print(len(nyc_data.features))"
   ]
  },
  {
   "cell_type": "code",
   "execution_count": 4,
   "metadata": {},
   "outputs": [
    {
     "data": {
      "text/plain": [
       "dict_keys(['type', 'id', 'geometry', 'properties'])"
      ]
     },
     "execution_count": 4,
     "metadata": {},
     "output_type": "execute_result"
    }
   ],
   "source": [
    "nyc_data.features[0].keys()"
   ]
  },
  {
   "cell_type": "code",
   "execution_count": 5,
   "metadata": {},
   "outputs": [
    {
     "data": {
      "text/plain": [
       "{'@id': 'http://nyc.pediacities.com/New_York_City', 'city': 'New York City'}"
      ]
     },
     "execution_count": 5,
     "metadata": {},
     "output_type": "execute_result"
    }
   ],
   "source": [
    "nyc_data.features[0].properties"
   ]
  },
  {
   "cell_type": "code",
   "execution_count": 6,
   "metadata": {
    "collapsed": true
   },
   "outputs": [],
   "source": [
    "nyc_feature = geojson.Feature(\n",
    "    geometry=geojson.MultiPolygon([p.geometry for p in nyc_data.features]),\n",
    "    properties={'name': 'New York City', 'score': 50},\n",
    "    id=\"3651000\"\n",
    ")\n",
    "new_nyc_data = geojson.FeatureCollection([nyc_feature])"
   ]
  },
  {
   "cell_type": "markdown",
   "metadata": {},
   "source": [
    "## Counties"
   ]
  },
  {
   "cell_type": "markdown",
   "metadata": {},
   "source": [
    "- https://github.com/python-visualization/folium/blob/master/tests/us-counties.json\n",
    "- http://eric.clst.org/tech/usgeojson/"
   ]
  },
  {
   "cell_type": "code",
   "execution_count": 7,
   "metadata": {
    "collapsed": true
   },
   "outputs": [],
   "source": [
    "with open('gz_2010_us_050_00_500k.json', encoding='latin1') as f:\n",
    "    data = geojson.load(f)"
   ]
  },
  {
   "cell_type": "code",
   "execution_count": 8,
   "metadata": {},
   "outputs": [
    {
     "data": {
      "text/plain": [
       "'0500000US01029'"
      ]
     },
     "execution_count": 8,
     "metadata": {},
     "output_type": "execute_result"
    }
   ],
   "source": [
    "data.features[0].properties['GEO_ID']"
   ]
  },
  {
   "cell_type": "code",
   "execution_count": 9,
   "metadata": {
    "collapsed": true
   },
   "outputs": [],
   "source": [
    "FIPS_TO_SELECT = [\"0500000US11001\", \"0500000US24031\", \"0500000US51059\"]"
   ]
  },
  {
   "cell_type": "code",
   "execution_count": 10,
   "metadata": {},
   "outputs": [
    {
     "name": "stdout",
     "output_type": "stream",
     "text": [
      "0500000US11001\n",
      "0500000US24031\n",
      "0500000US51059\n"
     ]
    }
   ],
   "source": [
    "counties_features = []\n",
    "for feature in data.features:\n",
    "    if feature.properties['GEO_ID'] in FIPS_TO_SELECT:\n",
    "        print(feature.properties['GEO_ID'])\n",
    "        feature.properties.update({'score': 85})\n",
    "        counties_features.append(feature)\n",
    "counties_data = geojson.FeatureCollection(counties_features)"
   ]
  },
  {
   "cell_type": "markdown",
   "metadata": {},
   "source": [
    "## Save new data"
   ]
  },
  {
   "cell_type": "code",
   "execution_count": 11,
   "metadata": {
    "collapsed": true
   },
   "outputs": [],
   "source": [
    "ADDITIONAL_PROPERTIES = {\n",
    "    \"Montgomery\": {\"slug\": \"Montgomery_County_MD\", \"score\": 50, \"spending_per_capita\": 5359},\n",
    "    \"District of Columbia\": {\"slug\": \"Washington_DC\", \"score\": 85, \"spending_per_capita\": 18271},\n",
    "    \"New York City\": {\"slug\": \"New_York_NY\", \"score\": 30, \"spending_per_capita\": 10333},\n",
    "    \"Fairfax\": {\"slug\": \"Fairfax_County_VA\", \"score\": 65, \"spending_per_capita\": 3625},\n",
    "}"
   ]
  },
  {
   "cell_type": "code",
   "execution_count": 12,
   "metadata": {
    "collapsed": true
   },
   "outputs": [],
   "source": [
    "combined_data = geojson.FeatureCollection([nyc_feature] + counties_features)"
   ]
  },
  {
   "cell_type": "code",
   "execution_count": 13,
   "metadata": {
    "collapsed": true
   },
   "outputs": [],
   "source": [
    "for feature in combined_data.features:\n",
    "    name = feature.properties.get('NAME', '') or feature.properties.get('name', '')\n",
    "    if name in ADDITIONAL_PROPERTIES:\n",
    "        feature.properties.update(ADDITIONAL_PROPERTIES[name])\n",
    "        feature.properties['name'] = name"
   ]
  },
  {
   "cell_type": "code",
   "execution_count": 14,
   "metadata": {
    "collapsed": true
   },
   "outputs": [],
   "source": [
    "with open('locations.geojson', 'w') as f:\n",
    "    geojson.dump(combined_data, f, indent=2)"
   ]
  },
  {
   "cell_type": "code",
   "execution_count": null,
   "metadata": {
    "collapsed": true
   },
   "outputs": [],
   "source": []
  }
 ],
 "metadata": {
  "kernelspec": {
   "display_name": "Python (Leaflet Choropleth)",
   "language": "python",
   "name": "leaflet-choropleth"
  },
  "language_info": {
   "codemirror_mode": {
    "name": "ipython",
    "version": 3
   },
   "file_extension": ".py",
   "mimetype": "text/x-python",
   "name": "python",
   "nbconvert_exporter": "python",
   "pygments_lexer": "ipython3",
   "version": "3.6.4"
  }
 },
 "nbformat": 4,
 "nbformat_minor": 2
}
